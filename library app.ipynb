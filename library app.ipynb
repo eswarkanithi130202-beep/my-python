{
 "cells": [
  {
   "cell_type": "code",
   "execution_count": null,
   "id": "81e55960-434c-4344-9b23-1f23b761ab0b",
   "metadata": {},
   "outputs": [],
   "source": [
    "import os\n",
    "\n",
    "# Function to Add Books\n",
    "def add_book(title, author, genre, year, status=\"unread\"):\n",
    "    book = {\n",
    "        \"title\": title.strip(),\n",
    "        \"author\": author.strip(),\n",
    "        \"genre\": genre.strip(),\n",
    "        \"year\": int(year),\n",
    "        \"status\": status.lower()\n",
    "    }\n",
    "    library.append(book)\n",
    "    print(f\"Book '{title}' added.\")\n",
    "\n"
   ]
  },
  {
   "cell_type": "code",
   "execution_count": null,
   "id": "5c11f4b0-48ab-4446-a0c8-a6b5f019c28e",
   "metadata": {},
   "outputs": [],
   "source": [
    "#  Function to List Books\n",
    "def list_books(sorted_by_year=False):\n",
    "    if not library:\n",
    "        print(\"Library is empty.\")\n",
    "        return\n",
    "    books = sorted(library, key=lambda x: x['year']) if sorted_by_year else library\n",
    "    for idx, book in enumerate(books, start=1):\n",
    "        print(f\"{idx}. {book['title']} by {book['author']} [{book['genre']}, {book['year']}] - {book['status'].capitalize()}\")\n"
   ]
  },
  {
   "cell_type": "code",
   "execution_count": null,
   "id": "35f7e154-df99-41d2-8795-be58d0245adf",
   "metadata": {},
   "outputs": [],
   "source": [
    "#  Function Search by Author\n",
    "def search_by_author(author_name):\n",
    "    return [book for book in library if author_name.lower() in book['author'].lower()]"
   ]
  },
  {
   "cell_type": "code",
   "execution_count": null,
   "id": "9ed0cea9-dd76-4a04-9cb7-bde5ccc6ee91",
   "metadata": {},
   "outputs": [],
   "source": [
    "#  Function to Delete Book\n",
    "def delete_book(title):\n",
    "    global library\n",
    "    library = list(filter(lambda book: book['title'].lower() != title.lower(), library))\n",
    "    print(f\"Book titled '{title}' has been removed if it existed.\")"
   ]
  },
  {
   "cell_type": "code",
   "execution_count": 1,
   "id": "87ee81ee-77fd-43c9-aefd-249f097c7368",
   "metadata": {},
   "outputs": [],
   "source": [
    "def show_reading_summary():\n",
    "    if not library:\n",
    "        print(\"no books in library.\")\n",
    "        return\n",
    "    read = len(list(filter(lambda x: x['status'] == 'read', library)))\n",
    "    unread = len(library) - read\n",
    "\n",
    "    print(f\"Read   : {read} book(s) ({(read / len(library)) * 100:.2f}%)\")\n",
    "    print(f\"Unread : {unread} book(s) ({(unread / len(library)) * 100:.2f}%)\")\n"
   ]
  },
  {
   "cell_type": "code",
   "execution_count": 2,
   "id": "1cf17ba2-453e-4a83-90de-41db22775751",
   "metadata": {},
   "outputs": [],
   "source": [
    "#convert titles of books into files;\n",
    "def uppercase_title():\n",
    "    titles=list(map(lambda b:['title'].upper(),library))\n",
    "    print(\"book titles (UPPERCASE):\")\n",
    "    for title in titles:\n",
    "        print(\"-\",title)"
   ]
  },
  {
   "cell_type": "code",
   "execution_count": null,
   "id": "97f540a1-029c-4aae-b832-ccd7e0779e46",
   "metadata": {},
   "outputs": [],
   "source": [
    "def save_to_file(filename):\n",
    "    try:\n",
    "        with open(filename,'w') as f:\n",
    "            for books in library:\n",
    "                line=f\"{book['title']},{book['author']},{(book ['genere']},{book['year']},{book['status']\"}\n",
    "                f.write(line)\n",
    "         print(f\"Save {len(library)}books to {filename}\"}\n",
    "            except exception as e:\n",
    "            print(\"error saving file:\",e)"
   ]
  },
  {
   "cell_type": "code",
   "execution_count": null,
   "id": "940dfb21-1eee-4a6d-93ce-25e60f3da45c",
   "metadata": {},
   "outputs": [],
   "source": [
    "def load_from_file(filename):\n",
    "    if not os.path.exists(filename):\n",
    "        print(\"file not found.starting with an empty library\")\n",
    "        return\n",
    "        try:\n",
    "            with open (filename,'r') as f:\n",
    "                for line in f:\n",
    "                    title author,genre,year,status= line.strip().split(',')\n",
    "                    add_book(title,author,genere,int(year),status)\n",
    "        except exception as e:\n",
    "            print(\"error reading file:\",e)  "
   ]
  },
  {
   "cell_type": "code",
   "execution_count": 9,
   "id": "a7f6c5aa-93a6-46ec-a720-ef93c9a3bd5b",
   "metadata": {},
   "outputs": [],
   "source": [
    "# Building the Menu Function for Your Library App\n",
    "def menu():\n",
    "    while True:\n",
    "        print(\"\\n--- Personal Library Menu ---\")\n",
    "        print(\"1. Add Book\")\n",
    "        print(\"2. List All Books\")\n",
    "        print(\"3. List Books Sorted by Year\")\n",
    "        print(\"4. Search by Author\")\n",
    "        print(\"5. Delete Book by Title\")\n",
    "        print(\"6. Show Reading Summary\")\n",
    "        print(\"7. Show UPPERCASE Book Titles (map)\")\n",
    "        print(\"8. Save Library\")\n",
    "        print(\"9. Load Library\")\n",
    "        print(\"10. Exit\")\n",
    "        choice = input(\"Choose an option: \")\n",
    "\n",
    "        if choice == \"1\":\n",
    "            title = input(\"Title: \")\n",
    "            author = input(\"Author: \")\n",
    "            genre = input(\"Genre: \")\n",
    "            year = input(\"Year: \")\n",
    "            status = input(\"Status (read/unread): \")\n",
    "            add_book(title, author, genre, year, status)\n",
    "        elif choice == \"2\":\n",
    "            list_books()\n",
    "        elif choice == \"3\":\n",
    "            list_books(sorted_by_year=True)\n",
    "        elif choice == \"4\":\n",
    "            author = input(\"Enter author name: \")\n",
    "            results = search_by_author(author)\n",
    "            print(f\"\\n Found {len(results)} books by {author}:\")\n",
    "            for book in results:\n",
    "                print(f\"- {book['title']} ({book['year']})\")\n",
    "        elif choice == \"5\":\n",
    "            title = input(\"Enter title to delete: \")\n",
    "            delete_book(title)\n",
    "        elif choice == \"6\":\n",
    "            show_reading_summary()\n",
    "        elif choice == \"7\":\n",
    "            uppercase_titles()\n",
    "        elif choice == \"8\":\n",
    "            save_to_file(\"books_data.txt\")\n",
    "        elif choice == \"9\":\n",
    "            load_from_file(\"books_data.txt\")\n",
    "        elif choice == \"10\":\n",
    "            print(\"Goodbye!\")\n",
    "            break\n",
    "        else:\n",
    "            print(\"Invalid option. Try again.\")\n"
   ]
  },
  {
   "cell_type": "code",
   "execution_count": null,
   "id": "ff544623-b6e3-4233-8563-5c9ddd301415",
   "metadata": {},
   "outputs": [],
   "source": []
  },
  {
   "cell_type": "code",
   "execution_count": null,
   "id": "f76c2d19-10b1-4c5e-b64f-cd7dbeeadcdf",
   "metadata": {},
   "outputs": [],
   "source": []
  },
  {
   "cell_type": "code",
   "execution_count": null,
   "id": "f5536ff9-403c-446f-91d6-23f88473c47f",
   "metadata": {},
   "outputs": [],
   "source": []
  }
 ],
 "metadata": {
  "kernelspec": {
   "display_name": "Python [conda env:base] *",
   "language": "python",
   "name": "conda-base-py"
  },
  "language_info": {
   "codemirror_mode": {
    "name": "ipython",
    "version": 3
   },
   "file_extension": ".py",
   "mimetype": "text/x-python",
   "name": "python",
   "nbconvert_exporter": "python",
   "pygments_lexer": "ipython3",
   "version": "3.13.5"
  }
 },
 "nbformat": 4,
 "nbformat_minor": 5
}
